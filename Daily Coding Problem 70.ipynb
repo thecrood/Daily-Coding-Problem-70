{
 "cells": [
  {
   "cell_type": "markdown",
   "id": "5531a589",
   "metadata": {},
   "source": [
    "# Daily Coding Problem 70"
   ]
  },
  {
   "cell_type": "raw",
   "id": "27823225",
   "metadata": {},
   "source": [
    "This problem was asked by Microsoft.\n",
    "\n",
    "A number is considered perfect if its digits sum up to exactly 10.\n",
    "\n",
    "Given a positive integer n, return the n-th perfect number.\n",
    "\n",
    "For example, given 1, you should return 19. Given 2, you should return 28."
   ]
  },
  {
   "cell_type": "markdown",
   "id": "8eaf3403",
   "metadata": {},
   "source": [
    "# Solution\n",
    "\n",
    "There's no faster way than simply iterating over all the numbers and keeping track of the current perfect number until we hit n. So that's what we'll do:"
   ]
  },
  {
   "cell_type": "code",
   "execution_count": 2,
   "id": "35451f1e",
   "metadata": {},
   "outputs": [
    {
     "name": "stdout",
     "output_type": "stream",
     "text": [
      "3\n",
      "37\n"
     ]
    }
   ],
   "source": [
    "def sum_of_digits(n):\n",
    "    current_sum = 0\n",
    "    while n > 0:\n",
    "        current_sum += n % 10\n",
    "        n = n // 10\n",
    "    return current_sum\n",
    "\n",
    "def perfect(n):\n",
    "    i, current = 0, 0\n",
    "    while current < n:\n",
    "        i += 1\n",
    "        if sum_of_digits(i) == 10:\n",
    "            current += 1\n",
    "    return i\n",
    "\n",
    "n=3\n",
    "print(sum_of_digits(n))\n",
    "print(perfect(n))"
   ]
  },
  {
   "cell_type": "markdown",
   "id": "3db4c836",
   "metadata": {},
   "source": [
    "This will run in O(N) time."
   ]
  },
  {
   "cell_type": "code",
   "execution_count": null,
   "id": "88d534b5",
   "metadata": {},
   "outputs": [],
   "source": []
  }
 ],
 "metadata": {
  "kernelspec": {
   "display_name": "Python 3 (ipykernel)",
   "language": "python",
   "name": "python3"
  },
  "language_info": {
   "codemirror_mode": {
    "name": "ipython",
    "version": 3
   },
   "file_extension": ".py",
   "mimetype": "text/x-python",
   "name": "python",
   "nbconvert_exporter": "python",
   "pygments_lexer": "ipython3",
   "version": "3.8.10"
  }
 },
 "nbformat": 4,
 "nbformat_minor": 5
}
